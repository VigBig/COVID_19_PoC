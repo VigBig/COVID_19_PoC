{
	"cells": [
		{
			"cell_type": "code",
			"execution_count": 1,
			"id": "f36ecb3d",
			"metadata": {
				"id": "f36ecb3d",
				"trusted": true,
				"vscode": {
					"languageId": "python_glue_session"
				}
			},
			"outputs": [
				{
					"name": "stdout",
					"output_type": "stream",
					"text": [
						"Welcome to the Glue Interactive Sessions Kernel\n",
						"For more information on available magic commands, please type %help in any new cell.\n",
						"\n",
						"Please view our Getting Started page to access the most up-to-date information on the Interactive Sessions kernel: https://docs.aws.amazon.com/glue/latest/dg/interactive-sessions.html\n",
						"Installed kernel version: 0.37.0 \n",
						"Authenticating with environment variables and user-defined glue_role_arn: arn:aws:iam::004368799100:role/service-role/AWSGlueServiceRole-sample_dataset\n",
						"Trying to create a Glue session for the kernel.\n",
						"Worker Type: G.1X\n",
						"Number of Workers: 5\n",
						"Session ID: b2e2a1bf-e9cc-402b-92dc-97a0c4dc7740\n",
						"Job Type: glueetl\n",
						"Applying the following default arguments:\n",
						"--glue_kernel_version 0.37.0\n",
						"--enable-glue-datacatalog true\n",
						"Waiting for session b2e2a1bf-e9cc-402b-92dc-97a0c4dc7740 to get into ready status...\n",
						"Session b2e2a1bf-e9cc-402b-92dc-97a0c4dc7740 has been created.\n",
						"'\\n@Authors: Vighnesh Harish Bilgi, Pavan Kalyan Yellaboina, Vipul Shete\\n@Date: 2023-03-10\\n@Last Modified by: Vighnesh Harish Bilgi \\n@Last Modified time: 2023-03-10\\n@Title : Transform the COVID-19 dataset using Pyspark on Jupyter Notebook on AWS EMR\\n'\n"
					]
				}
			],
			"source": [
				"'''\n",
				"@Authors: Vighnesh Harish Bilgi, Pavan Kalyan Yellaboina, Vipul Shete\n",
				"@Date: 2023-03-10\n",
				"@Last Modified by: Vighnesh Harish Bilgi \n",
				"@Last Modified time: 2023-03-10\n",
				"@Title : Transform the COVID-19 dataset using Pyspark on Jupyter Notebook on AWS Glue Job\n",
				"'''"
			]
		},
		{
			"cell_type": "markdown",
			"id": "064f37fb",
			"metadata": {
				"id": "064f37fb"
			},
			"source": [
				"### Starting spark application"
			]
		},
		{
			"cell_type": "code",
			"execution_count": 2,
			"id": "62a6c86a-4303-4008-854d-7d63411c38f8",
			"metadata": {
				"id": "62a6c86a-4303-4008-854d-7d63411c38f8",
				"tags": [],
				"trusted": true,
				"vscode": {
					"languageId": "python_glue_session"
				}
			},
			"outputs": [
				{
					"name": "stdout",
					"output_type": "stream",
					"text": [
						"\n"
					]
				}
			],
			"source": [
				"import pyspark\n",
				"from pyspark.sql import SparkSession\n",
				"from pyspark.sql.functions import year, month, date_format, to_date, col, concat, isnan,when,count"
			]
		},
		{
			"cell_type": "code",
			"execution_count": 3,
			"id": "479f50a4-93e7-4fa2-ae5d-7a26c1e068ed",
			"metadata": {
				"colab": {
					"base_uri": "https://localhost:8080/",
					"height": 219
				},
				"id": "479f50a4-93e7-4fa2-ae5d-7a26c1e068ed",
				"outputId": "5630ae59-7274-4e5a-d640-5f1706928671",
				"tags": [],
				"trusted": true,
				"vscode": {
					"languageId": "python_glue_session"
				}
			},
			"outputs": [
				{
					"name": "stdout",
					"output_type": "stream",
					"text": [
						"\n"
					]
				}
			],
			"source": [
				"spark=SparkSession.builder.appName('Pyspark_covid19_transform').getOrCreate()"
			]
		},
		{
			"cell_type": "markdown",
			"id": "712c6e52",
			"metadata": {
				"id": "712c6e52"
			},
			"source": [
				"### Import the COVID-19 data as a pyspark dataframe"
			]
		},
		{
			"cell_type": "code",
			"execution_count": 9,
			"id": "PUqpMhiqldaU",
			"metadata": {
				"colab": {
					"base_uri": "https://localhost:8080/"
				},
				"id": "PUqpMhiqldaU",
				"outputId": "e08a8979-4209-4ea2-fbe1-c0dc1c85939b",
				"trusted": true,
				"vscode": {
					"languageId": "python_glue_session"
				}
			},
			"outputs": [
				{
					"name": "stdout",
					"output_type": "stream",
					"text": [
						"\n"
					]
				}
			],
			"source": [
				"pyspark_df = spark.read.csv(\"s3://poc-covid-19/raw_data/covid_19_data.csv\", header = True, inferSchema = True)"
			]
		},
		{
			"cell_type": "markdown",
			"id": "991-HhGjx71A",
			"metadata": {
				"id": "991-HhGjx71A"
			},
			"source": [
				"Removing records that have 'OWID' in the iso_code."
			]
		},
		{
			"cell_type": "code",
			"execution_count": 10,
			"id": "_2HKjEJdx7SY",
			"metadata": {
				"id": "_2HKjEJdx7SY",
				"trusted": true,
				"vscode": {
					"languageId": "python_glue_session"
				}
			},
			"outputs": [
				{
					"name": "stdout",
					"output_type": "stream",
					"text": [
						"\n"
					]
				}
			],
			"source": [
				"pyspark_df = pyspark_df.filter(~col('iso_code').contains('OWID'))"
			]
		},
		{
			"cell_type": "markdown",
			"id": "_3zsv0i3zs-d",
			"metadata": {
				"id": "_3zsv0i3zs-d"
			},
			"source": [
				"Renaming 'location' column to 'country' "
			]
		},
		{
			"cell_type": "code",
			"execution_count": 11,
			"id": "pjL2FRKR0P4o",
			"metadata": {
				"colab": {
					"base_uri": "https://localhost:8080/"
				},
				"id": "pjL2FRKR0P4o",
				"outputId": "d88bb524-bf86-4596-e790-f889dcc86f00",
				"trusted": true,
				"vscode": {
					"languageId": "python_glue_session"
				}
			},
			"outputs": [
				{
					"name": "stdout",
					"output_type": "stream",
					"text": [
						"\n"
					]
				}
			],
			"source": [
				"pyspark_df = pyspark_df.withColumnRenamed(\"location\",\"country\")"
			]
		},
		{
			"attachments": {},
			"cell_type": "markdown",
			"id": "3506b3ac",
			"metadata": {
				"id": "3506b3ac"
			},
			"source": [
				"##### Select column 'date', from date column, extract day, month and year as separate columns and then concatenate columns month, year and day to create column 'date_id' which will serve as primary key. \n",
				"\n",
				"##### Any duplicate records that exist has been dropped. \n",
				"\n",
				"##### These selected columns are then stored as a data Frame and then saved into an S3 bucket to be loaded as dimension table called 'dim_date' in AWS Redshift.  "
			]
		},
		{
			"cell_type": "code",
			"execution_count": 12,
			"id": "db5da721-cb27-42c9-8ea8-86eb192d3508",
			"metadata": {
				"colab": {
					"base_uri": "https://localhost:8080/"
				},
				"id": "db5da721-cb27-42c9-8ea8-86eb192d3508",
				"outputId": "d749aa09-843b-4032-db56-796f35e2e33d",
				"tags": [],
				"trusted": true,
				"vscode": {
					"languageId": "python_glue_session"
				}
			},
			"outputs": [
				{
					"name": "stdout",
					"output_type": "stream",
					"text": [
						"\n"
					]
				}
			],
			"source": [
				"dim_date = pyspark_df.withColumn('year',year(pyspark_df.date)).withColumn('month',month(pyspark_df.date)).withColumn(\"day\", date_format(col(\"date\"), \"d\"))\n",
				"dim_date = dim_date.select(concat(dim_date.month,dim_date.year,dim_date.day).alias(\"date_id\"),'year','month','day','date')\n",
				"dim_date = dim_date.dropDuplicates()"
			]
		},
		{
			"cell_type": "markdown",
			"id": "86e05630",
			"metadata": {
				"id": "86e05630"
			},
			"source": [
				"### Load 'dim_date' table as .csv file into a S3 bucket"
			]
		},
		{
			"cell_type": "code",
			"execution_count": 13,
			"id": "38f86795-b275-4da2-a9b9-0133eb33eba1",
			"metadata": {
				"colab": {
					"referenced_widgets": [
						"4db06ae73f774f71ab610f98d71a6fec",
						""
					]
				},
				"id": "38f86795-b275-4da2-a9b9-0133eb33eba1",
				"outputId": "dd4ecb30-df8e-4918-b9d0-9ac079a2e53c",
				"tags": [],
				"trusted": true,
				"vscode": {
					"languageId": "python_glue_session"
				}
			},
			"outputs": [
				{
					"name": "stdout",
					"output_type": "stream",
					"text": [
						"\n"
					]
				}
			],
			"source": [
				"dim_date.coalesce(1).write.format(\"com.databricks.spark.csv\").option(\"header\", \"true\").save(\n",
				"        path = \"s3://poc-covid-19/processed_data/dim_date/\", mode = \"overwrite\"\n",
				"   )"
			]
		},
		{
			"attachments": {},
			"cell_type": "markdown",
			"id": "beb6ef12",
			"metadata": {
				"id": "beb6ef12"
			},
			"source": [
				"##### Select columns 'people_vaccinated', 'people_fully_vaccinated', 'total_boosters' to create dimension table 'dim_vaccination'.  \n",
				"\n",
				"##### Extracting year, month and day from 'date' column and concatenating with the 'iso_code' to create column 'country_date_id' which will serve as a primary key for this table.   "
			]
		},
		{
			"cell_type": "code",
			"execution_count": 14,
			"id": "ce069574-b483-4134-9b3c-effbcd876fa4",
			"metadata": {
				"colab": {
					"base_uri": "https://localhost:8080/"
				},
				"id": "ce069574-b483-4134-9b3c-effbcd876fa4",
				"outputId": "a47afa1d-a950-4f93-912a-79005e58ce7a",
				"tags": [],
				"trusted": true,
				"vscode": {
					"languageId": "python_glue_session"
				}
			},
			"outputs": [
				{
					"name": "stdout",
					"output_type": "stream",
					"text": [
						"\n"
					]
				}
			],
			"source": [
				"dim_vaccination = pyspark_df.select(concat(month(pyspark_df.date),year(pyspark_df.date),date_format(col(\"date\"), \"d\"),pyspark_df.iso_code).alias(\"country_date_id\"),\n",
				"'people_vaccinated','people_fully_vaccinated','total_boosters')\n",
				"dim_vaccination = dim_vaccination.dropDuplicates()"
			]
		},
		{
			"cell_type": "markdown",
			"id": "15a0cce3",
			"metadata": {
				"id": "15a0cce3"
			},
			"source": [
				"### Null values are replced with 0."
			]
		},
		{
			"cell_type": "code",
			"execution_count": 15,
			"id": "20299ca8-534f-4584-bb09-fb4611198025",
			"metadata": {
				"colab": {
					"base_uri": "https://localhost:8080/"
				},
				"id": "20299ca8-534f-4584-bb09-fb4611198025",
				"outputId": "5daee6a7-a9c7-4cd4-9add-4520246a1a56",
				"tags": [],
				"trusted": true,
				"vscode": {
					"languageId": "python_glue_session"
				}
			},
			"outputs": [
				{
					"name": "stdout",
					"output_type": "stream",
					"text": [
						"\n"
					]
				}
			],
			"source": [
				"dim_vaccination = dim_vaccination.fillna({'people_vaccinated':0}).fillna({'people_fully_vaccinated':0}).fillna({'total_boosters':0})"
			]
		},
		{
			"cell_type": "markdown",
			"id": "95588109",
			"metadata": {
				"id": "95588109"
			},
			"source": [
				"### Load 'dim_vaccination' table as .csv file into a S3 bucket."
			]
		},
		{
			"cell_type": "code",
			"execution_count": 16,
			"id": "d2b110a3-eb63-416f-be29-6fe3e7c09386",
			"metadata": {
				"colab": {
					"referenced_widgets": [
						"4274efbfd9e740f99d5718503c3f9c2c",
						""
					]
				},
				"id": "d2b110a3-eb63-416f-be29-6fe3e7c09386",
				"outputId": "f7e4b8f7-8f61-4327-9e96-2742a9227d49",
				"tags": [],
				"trusted": true,
				"vscode": {
					"languageId": "python_glue_session"
				}
			},
			"outputs": [
				{
					"name": "stdout",
					"output_type": "stream",
					"text": [
						"\n"
					]
				}
			],
			"source": [
				"dim_vaccination.coalesce(1).write.format(\"com.databricks.spark.csv\").option(\"header\", \"true\").save(\n",
				"        path = \"s3://poc-covid-19/processed_data/dim_vaccination/\", mode = \"overwrite\"\n",
				"    )"
			]
		},
		{
			"attachments": {},
			"cell_type": "markdown",
			"id": "0ce6693b",
			"metadata": {
				"id": "0ce6693b"
			},
			"source": [
				"##### Select columns 'hosp_patients', 'weely_icu_admissions', 'weekly_hosp_admissions', diabetes_prevalence, 'cardiovasc_death_rate' to create dimension table 'dim_patient'\n",
				"\n",
				"##### Extracting year, month and day from 'date' column and concatenating with the 'iso_code' to create column 'country_date_id' which will serve as a primary key for this table.   "
			]
		},
		{
			"cell_type": "code",
			"execution_count": 17,
			"id": "fdb2e594-73a0-4fbc-89b1-aaceedfdf3e0",
			"metadata": {
				"colab": {
					"base_uri": "https://localhost:8080/"
				},
				"id": "fdb2e594-73a0-4fbc-89b1-aaceedfdf3e0",
				"outputId": "a0c8a7d8-cb7a-4e1f-9d66-02567c41b19e",
				"tags": [],
				"trusted": true,
				"vscode": {
					"languageId": "python_glue_session"
				}
			},
			"outputs": [
				{
					"name": "stdout",
					"output_type": "stream",
					"text": [
						"\n"
					]
				}
			],
			"source": [
				"dim_patient = pyspark_df.select(concat(month(pyspark_df.date),year(pyspark_df.date),date_format(col(\"date\"), \"d\"),pyspark_df.iso_code).alias(\"country_date_id\"),'hosp_patients','weekly_icu_admissions','weekly_hosp_admissions','diabetes_prevalence','cardiovasc_death_rate')\n",
				"dim_patient = dim_patient.dropDuplicates()"
			]
		},
		{
			"cell_type": "markdown",
			"id": "a087acaf",
			"metadata": {
				"id": "a087acaf"
			},
			"source": [
				"### Null values are replaced with 0."
			]
		},
		{
			"cell_type": "code",
			"execution_count": 18,
			"id": "79a1f213-921e-4ad8-8bf1-d1aff649e1e6",
			"metadata": {
				"colab": {
					"base_uri": "https://localhost:8080/"
				},
				"id": "79a1f213-921e-4ad8-8bf1-d1aff649e1e6",
				"outputId": "7a24410e-d94f-4c0b-f262-4dd25723e72e",
				"tags": [],
				"trusted": true,
				"vscode": {
					"languageId": "python_glue_session"
				}
			},
			"outputs": [
				{
					"name": "stdout",
					"output_type": "stream",
					"text": [
						"\n"
					]
				}
			],
			"source": [
				"dim_patient = dim_patient.fillna({'hosp_patients':0}).fillna({'weekly_icu_admissions':0}).fillna({'weekly_hosp_admissions':0}).fillna({'diabetes_prevalence':0}).fillna({'cardiovasc_death_rate':0})"
			]
		},
		{
			"cell_type": "markdown",
			"id": "d2b7db43",
			"metadata": {
				"id": "d2b7db43"
			},
			"source": [
				"### Load 'dim_patient' table into a S3 bucket."
			]
		},
		{
			"cell_type": "code",
			"execution_count": 19,
			"id": "2c385c02-b3e2-4ac2-bdba-39ec3ef1486c",
			"metadata": {
				"colab": {
					"referenced_widgets": [
						"252eaffc7ede46de93c39ca67dd5eb2c",
						""
					]
				},
				"id": "2c385c02-b3e2-4ac2-bdba-39ec3ef1486c",
				"outputId": "d18c238f-b45f-483a-ca0b-f2f6e7535b61",
				"tags": [],
				"trusted": true,
				"vscode": {
					"languageId": "python_glue_session"
				}
			},
			"outputs": [
				{
					"name": "stdout",
					"output_type": "stream",
					"text": [
						"\n"
					]
				}
			],
			"source": [
				"dim_patient.coalesce(1).write.format(\"com.databricks.spark.csv\").option(\"header\", \"true\").save(\n",
				"        path = \"s3://poc-covid-19/processed_data/dim_patients/\", mode = \"overwrite\"\n",
				"    )"
			]
		},
		{
			"attachments": {},
			"cell_type": "markdown",
			"id": "d948db33",
			"metadata": {
				"id": "d948db33"
			},
			"source": [
				"##### Select columns 'positive_rate', 'tests_per_case', 'tests_units' to create dimension table 'dim_testing'\n",
				"\n",
				"##### Extracting year, month and day from 'date' column and concatenating with the 'iso_code' to create column 'country_date_id' which will serve as a primary key for this table.   "
			]
		},
		{
			"cell_type": "code",
			"execution_count": 20,
			"id": "ff4d0ae3-4e36-426f-87db-e54a107581f9",
			"metadata": {
				"colab": {
					"base_uri": "https://localhost:8080/"
				},
				"id": "ff4d0ae3-4e36-426f-87db-e54a107581f9",
				"outputId": "38543a35-1134-40e1-9797-c75aac8f2402",
				"tags": [],
				"trusted": true,
				"vscode": {
					"languageId": "python_glue_session"
				}
			},
			"outputs": [
				{
					"name": "stdout",
					"output_type": "stream",
					"text": [
						"\n"
					]
				}
			],
			"source": [
				"dim_testing = pyspark_df.select(concat(month(pyspark_df.date),year(pyspark_df.date),date_format(col(\"date\"), \"d\"),pyspark_df.iso_code).alias(\"country_date_id\"),'positive_rate','tests_per_case','tests_units')\n",
				"dim_testing = dim_testing.dropDuplicates()"
			]
		},
		{
			"cell_type": "markdown",
			"id": "7f9efd4e",
			"metadata": {
				"id": "7f9efd4e"
			},
			"source": [
				"#### Null values are replaced with 0 for numerical columns, and are replaced with Ã¢ÂÂno tests performedÃ¢ÂÂ under tests_units. "
			]
		},
		{
			"cell_type": "code",
			"execution_count": 23,
			"id": "4e2e2794-f16a-42d5-840d-a94f219405ba",
			"metadata": {
				"colab": {
					"base_uri": "https://localhost:8080/"
				},
				"id": "4e2e2794-f16a-42d5-840d-a94f219405ba",
				"outputId": "f7e9b2a7-2ebf-42fb-afe1-51c179423e4e",
				"tags": [],
				"trusted": true,
				"vscode": {
					"languageId": "python_glue_session"
				}
			},
			"outputs": [
				{
					"name": "stdout",
					"output_type": "stream",
					"text": [
						"\n"
					]
				}
			],
			"source": [
				"dim_testing = dim_testing.fillna({'tests_units':'no tests performed'}).fillna({'positive_rate':0}).fillna({'tests_per_case':0})"
			]
		},
		{
			"cell_type": "markdown",
			"id": "30e7ade5",
			"metadata": {
				"id": "30e7ade5"
			},
			"source": [
				"### Load 'dim_testing' table as a .csv file into a S3 bucket. "
			]
		},
		{
			"cell_type": "code",
			"execution_count": 24,
			"id": "22995d17-02cd-4224-a4bb-0757c20f2789",
			"metadata": {
				"colab": {
					"referenced_widgets": [
						"71d8fc35bffa45028fe382962b86cf37",
						""
					]
				},
				"id": "22995d17-02cd-4224-a4bb-0757c20f2789",
				"outputId": "6c5d03f6-69be-4678-a755-706281266578",
				"tags": [],
				"trusted": true,
				"vscode": {
					"languageId": "python_glue_session"
				}
			},
			"outputs": [
				{
					"name": "stdout",
					"output_type": "stream",
					"text": [
						"\n"
					]
				}
			],
			"source": [
				"dim_testing.coalesce(1).write.format(\"com.databricks.spark.csv\").option(\"header\", \"true\").save(path = \"s3://poc-covid-19/processed_data/dim_testing/\", mode = \"overwrite\")"
			]
		},
		{
			"attachments": {},
			"cell_type": "markdown",
			"id": "bd9f6795",
			"metadata": {
				"id": "bd9f6795"
			},
			"source": [
				"##### Select columns 'iso_code', 'continent', 'country', 'population' to create table 'dim_country'. 'iso_code' will be used as primary key for the table. "
			]
		},
		{
			"cell_type": "code",
			"execution_count": 25,
			"id": "93bfa00e-2cc3-4c60-9e8b-a95362135023",
			"metadata": {
				"colab": {
					"base_uri": "https://localhost:8080/"
				},
				"id": "93bfa00e-2cc3-4c60-9e8b-a95362135023",
				"outputId": "d815265c-2ec8-4bf8-cc13-35ba36c1ac85",
				"tags": [],
				"trusted": true,
				"vscode": {
					"languageId": "python_glue_session"
				}
			},
			"outputs": [
				{
					"name": "stdout",
					"output_type": "stream",
					"text": [
						"\n"
					]
				}
			],
			"source": [
				"dim_country = pyspark_df.select('iso_code','continent','country','population')\n",
				"dim_country = dim_country.dropDuplicates()"
			]
		},
		{
			"cell_type": "markdown",
			"id": "567f1c10",
			"metadata": {
				"id": "567f1c10"
			},
			"source": [
				"### Load 'dim_country' as a .csv file into a S3 bucket."
			]
		},
		{
			"cell_type": "code",
			"execution_count": 26,
			"id": "c72fa935-bb41-4510-bcd9-d512508491ac",
			"metadata": {
				"colab": {
					"referenced_widgets": [
						"5a17abf9e160453d91a4daa6510ea66d",
						""
					]
				},
				"id": "c72fa935-bb41-4510-bcd9-d512508491ac",
				"outputId": "c972c9df-38e6-4859-cddb-671f20fe3009",
				"tags": [],
				"trusted": true,
				"vscode": {
					"languageId": "python_glue_session"
				}
			},
			"outputs": [
				{
					"name": "stdout",
					"output_type": "stream",
					"text": [
						"\n"
					]
				}
			],
			"source": [
				"dim_country.coalesce(1).write.format(\"com.databricks.spark.csv\").option(\"header\", \"true\").save(\n",
				"        path = \"s3://poc-covid-19/processed_data/dim_country/\", mode = \"overwrite\"\n",
				"    )"
			]
		},
		{
			"attachments": {},
			"cell_type": "markdown",
			"id": "36761f74",
			"metadata": {
				"id": "36761f74"
			},
			"source": [
				"##### Select columns \"iso_code\",\"new_cases\",\"total_cases\",\"total_deaths\",\"new_deaths\",\"total_tests\",\"new_tests\",\"total_vaccinations\",\"new_vaccinations\",\"icu_patients\" to create fact table covid_fact \n",
				"\n",
				"##### Extract day, month and year as separate columns and then concatenate columns month,year and day to create column date_id \n",
				"\n",
				"##### Concatenate date_id column with the iso_code to create column country_date_id. \n",
				"\n",
				"##### Concatenate country_date_id column with the continent to create column fact_id. This will serve as primary key for this table. "
			]
		},
		{
			"cell_type": "code",
			"execution_count": 27,
			"id": "6daf9bcf-1f40-48cc-9f4b-7fcfd10128de",
			"metadata": {
				"colab": {
					"base_uri": "https://localhost:8080/"
				},
				"id": "6daf9bcf-1f40-48cc-9f4b-7fcfd10128de",
				"outputId": "814c6804-518d-4a7d-d160-04e81ace37d1",
				"tags": [],
				"trusted": true,
				"vscode": {
					"languageId": "python_glue_session"
				}
			},
			"outputs": [
				{
					"name": "stdout",
					"output_type": "stream",
					"text": [
						"DataFrame[fact_id: string, country_date_id: string, date_id: string, iso_code: string, new_cases: double, total_cases: double, total_deaths: double, new_deaths: double, total_tests: double, new_tests: double, total_vaccinations: double, new_vaccinations: double, icu_patients: double]\n"
					]
				}
			],
			"source": [
				"covid_fact = pyspark_df.select(concat(month(pyspark_df.date),year(pyspark_df.date),date_format(col(\"date\"), \"d\"),\n",
				"                                'iso_code','continent').alias('fact_id'),\n",
				"                               concat(month(pyspark_df.date),year(pyspark_df.date),date_format(col(\"date\"), \"d\"),\n",
				"                                      'iso_code').alias('country_date_id'),\n",
				"                              concat(month(pyspark_df.date),year(pyspark_df.date),date_format(col(\"date\"), \"d\")).alias('date_id'),\n",
				"                               \"iso_code\",\"new_cases\", \"total_cases\", \"total_deaths\", \"new_deaths\", \"total_tests\",\n",
				"                               \"new_tests\", \"total_vaccinations\", \"new_vaccinations\", \"icu_patients\")\n",
				"covid_fact.dropDuplicates()"
			]
		},
		{
			"cell_type": "markdown",
			"id": "6507d41d",
			"metadata": {
				"id": "6507d41d"
			},
			"source": [
				"### Null values are replaced with 0."
			]
		},
		{
			"cell_type": "code",
			"execution_count": 28,
			"id": "f8510646-095f-4b3b-88af-df8c35e9fee1",
			"metadata": {
				"colab": {
					"base_uri": "https://localhost:8080/"
				},
				"id": "f8510646-095f-4b3b-88af-df8c35e9fee1",
				"outputId": "6c406c03-427c-4b57-dea9-9f688a26ac59",
				"tags": [],
				"trusted": true,
				"vscode": {
					"languageId": "python_glue_session"
				}
			},
			"outputs": [
				{
					"name": "stdout",
					"output_type": "stream",
					"text": [
						"\n"
					]
				}
			],
			"source": [
				"covid_fact = covid_fact.fillna(0)"
			]
		},
		{
			"cell_type": "markdown",
			"id": "d8e0394d",
			"metadata": {
				"id": "d8e0394d"
			},
			"source": [
				"### Load 'covid_fact' as a .csv file into a S3 bucket."
			]
		},
		{
			"cell_type": "code",
			"execution_count": 29,
			"id": "7fbd7237-8540-454a-904d-3e25887cf6fd",
			"metadata": {
				"colab": {
					"referenced_widgets": [
						"1727e5f56b00476c96cf5afecf83ce9a",
						""
					]
				},
				"id": "7fbd7237-8540-454a-904d-3e25887cf6fd",
				"outputId": "26dba231-32a1-4647-e150-a40bca312ff9",
				"tags": [],
				"trusted": true,
				"vscode": {
					"languageId": "python_glue_session"
				}
			},
			"outputs": [
				{
					"name": "stdout",
					"output_type": "stream",
					"text": [
						"\n"
					]
				}
			],
			"source": [
				"covid_fact.coalesce(1).write.format(\"com.databricks.spark.csv\").option(\"header\", \"true\").save(\n",
				"        path = \"s3://poc-covid-19/processed_data/covid_fact/\", mode = \"overwrite\"\n",
				"    )"
			]
		}
	],
	"metadata": {
		"colab": {
			"provenance": []
		},
		"kernelspec": {
			"display_name": "Glue PySpark",
			"language": "python",
			"name": "glue_pyspark"
		},
		"language_info": {
			"codemirror_mode": {
				"name": "python",
				"version": 3
			},
			"file_extension": ".py",
			"mimetype": "text/x-python",
			"name": "Python_Glue_Session",
			"pygments_lexer": "python3"
		},
		"vscode": {
			"interpreter": {
				"hash": "570feb405e2e27c949193ac68f46852414290d515b0ba6e5d90d076ed2284471"
			}
		}
	},
	"nbformat": 4,
	"nbformat_minor": 5
}
